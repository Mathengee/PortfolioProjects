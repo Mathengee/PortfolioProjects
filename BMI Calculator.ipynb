{
 "cells": [
  {
   "cell_type": "code",
   "execution_count": 15,
   "id": "01e66215-d14a-4767-bb19-4e93eac83aee",
   "metadata": {},
   "outputs": [
    {
     "name": "stdin",
     "output_type": "stream",
     "text": [
      "Enter your name:  Anthony\n",
      "Enter your weight in pounds:  170\n",
      "Enter your height in inches:  69\n"
     ]
    },
    {
     "name": "stdout",
     "output_type": "stream",
     "text": [
      "25.101869355177485\n",
      "Anthony, you are overweight\n"
     ]
    }
   ],
   "source": [
    "name = input(\"Enter your name: \")\n",
    "weight = int(input(\"Enter your weight in pounds: \"))\n",
    "height = int(input(\"Enter your height in inches: \"))\n",
    "BMI = (weight * 703) / (height * height)\n",
    "print(BMI)\n",
    "if BMI>0:\n",
    "    if(BMI<18.5):\n",
    "        print(name + \", you are underweight\")\n",
    "    elif(BMI<=24.9):\n",
    "        print(name + \", you are normal weight\")\n",
    "    elif(BMI<29.9):\n",
    "        print(name + \", you are overweight\")\n",
    "    elif(BMI<34.9):\n",
    "        print(name + \", you are obese\")\n",
    "    elif(BMI<39.9):\n",
    "        print(name + \", you are severely obese\")\n",
    "    elif(BMI<39.9):\n",
    "        print(name + \", you are morbidly obese\")\n",
    "else:\n",
    "    print(\"Enter valid input\")"
   ]
  },
  {
   "cell_type": "code",
   "execution_count": null,
   "id": "4cb3014e-29b0-4437-b5a0-32021795e21f",
   "metadata": {},
   "outputs": [],
   "source": []
  },
  {
   "cell_type": "code",
   "execution_count": null,
   "id": "774b5cfe-cd98-4a19-99e5-0abb7a965fc3",
   "metadata": {},
   "outputs": [],
   "source": []
  },
  {
   "cell_type": "code",
   "execution_count": null,
   "id": "28305bce-b14f-4e13-9aff-3bc1a87ccfaa",
   "metadata": {},
   "outputs": [],
   "source": [
    "#BMI = (weight in pounds * 703) / (height in inches * height in inches)"
   ]
  },
  {
   "cell_type": "code",
   "execution_count": null,
   "id": "82760b77-10c7-44b1-858b-f3d27f7194ff",
   "metadata": {},
   "outputs": [],
   "source": [
    "print(weight)"
   ]
  },
  {
   "cell_type": "code",
   "execution_count": null,
   "id": "6a71292f-d5e3-40bb-8447-7f016c375275",
   "metadata": {},
   "outputs": [],
   "source": [
    "Under 18.5\tUnderweight\tMinimal\n",
    "18.5 - 24.9\tNormal Weight\tMinimal\n",
    "25 - 29.9\tOverweight\tIncreased\n",
    "30 - 34.9\tObese\tHigh\n",
    "35 - 39.9\tSeverely Obese\tVery High\n",
    "40 and over\tMorbidly Obese\tExtremely High"
   ]
  },
  {
   "cell_type": "code",
   "execution_count": 16,
   "id": "38f31560-890b-41a9-a174-00b8f09a3769",
   "metadata": {},
   "outputs": [
    {
     "name": "stdout",
     "output_type": "stream",
     "text": [
      "Anthony, you are overweight\n"
     ]
    }
   ],
   "source": [
    "if BMI>0:\n",
    "    if(BMI<18.5):\n",
    "        print(name + \", you are underweight\")\n",
    "    elif(BMI<=24.9):\n",
    "        print(name + \", you are normal weight\")\n",
    "    elif(BMI<29.9):\n",
    "        print(name + \", you are overweight\")\n",
    "    elif(BMI<34.9):\n",
    "        print(name + \", you are obese\")\n",
    "    elif(BMI<39.9):\n",
    "        print(name + \", you are severely obese\")\n",
    "    elif(BMI<39.9):\n",
    "        print(name + \", you are morbidly obese\")\n",
    "else:\n",
    "    print(\"Enter valid input\")"
   ]
  },
  {
   "cell_type": "code",
   "execution_count": null,
   "id": "10600ebb-a960-442d-a8c5-8e421c046329",
   "metadata": {},
   "outputs": [],
   "source": []
  },
  {
   "cell_type": "code",
   "execution_count": null,
   "id": "23728558-4bdc-40aa-a090-6d47189b357b",
   "metadata": {},
   "outputs": [],
   "source": []
  },
  {
   "cell_type": "code",
   "execution_count": null,
   "id": "fd36c18e-8a8c-4ecd-bfc9-e6adc7972851",
   "metadata": {},
   "outputs": [],
   "source": []
  },
  {
   "cell_type": "code",
   "execution_count": null,
   "id": "59c60414-8c2e-4818-8982-01ce05613958",
   "metadata": {},
   "outputs": [],
   "source": []
  },
  {
   "cell_type": "code",
   "execution_count": null,
   "id": "525cd317-5b49-4bd1-8225-4e9220540d7b",
   "metadata": {},
   "outputs": [],
   "source": []
  },
  {
   "cell_type": "code",
   "execution_count": null,
   "id": "ec377d3f-3e96-4fb5-ac19-57690402d1c4",
   "metadata": {},
   "outputs": [],
   "source": []
  },
  {
   "cell_type": "code",
   "execution_count": null,
   "id": "425f3d2b-12e6-4ac3-9847-f3dba877164f",
   "metadata": {},
   "outputs": [],
   "source": []
  },
  {
   "cell_type": "code",
   "execution_count": null,
   "id": "b0055f4a-8985-4120-90b4-f35fa4543412",
   "metadata": {},
   "outputs": [],
   "source": []
  },
  {
   "cell_type": "code",
   "execution_count": null,
   "id": "aa64cd1c-dc02-4684-8d8c-e516b7cb2e71",
   "metadata": {},
   "outputs": [],
   "source": []
  },
  {
   "cell_type": "code",
   "execution_count": null,
   "id": "6720092f-3e7c-48b1-810b-2b7fe2bee32f",
   "metadata": {},
   "outputs": [],
   "source": []
  },
  {
   "cell_type": "code",
   "execution_count": null,
   "id": "b8a9e296-34a8-409c-a776-5e80026df416",
   "metadata": {},
   "outputs": [],
   "source": []
  },
  {
   "cell_type": "code",
   "execution_count": null,
   "id": "ac4d91d6-637a-4646-92cb-15943bb518b9",
   "metadata": {},
   "outputs": [],
   "source": []
  },
  {
   "cell_type": "code",
   "execution_count": null,
   "id": "243096d6-dd4f-4237-974f-32233788c532",
   "metadata": {},
   "outputs": [],
   "source": []
  },
  {
   "cell_type": "code",
   "execution_count": null,
   "id": "5d90e005-16f9-4310-9adf-8ae89e305f22",
   "metadata": {},
   "outputs": [],
   "source": []
  }
 ],
 "metadata": {
  "kernelspec": {
   "display_name": "Python [conda env:base] *",
   "language": "python",
   "name": "conda-base-py"
  },
  "language_info": {
   "codemirror_mode": {
    "name": "ipython",
    "version": 3
   },
   "file_extension": ".py",
   "mimetype": "text/x-python",
   "name": "python",
   "nbconvert_exporter": "python",
   "pygments_lexer": "ipython3",
   "version": "3.13.5"
  }
 },
 "nbformat": 4,
 "nbformat_minor": 5
}
